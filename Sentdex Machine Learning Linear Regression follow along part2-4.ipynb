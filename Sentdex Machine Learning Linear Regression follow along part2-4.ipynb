{
 "cells": [
  {
   "cell_type": "markdown",
   "metadata": {},
   "source": [
    "# Sentdex Machine Learning Part 2"
   ]
  },
  {
   "cell_type": "code",
   "execution_count": 28,
   "metadata": {},
   "outputs": [],
   "source": [
    "import pandas as pd\n",
    "import numpy as np\n",
    "from pandas import Series, DataFrame\n",
    "import matplotlib.pyplot as plt\n",
    "%matplotlib inline\n",
    "import quandl    # lowercase works in Python3\n",
    "import math\n",
    "from sklearn import preprocessing, svm # This library allows for scaling on the features\n",
    "#cross validation will shuffle the data for you\n",
    "#svm also \n",
    "\n",
    "from sklearn.model_selection import cross_validate # the old way did not work but this will.\n",
    "from sklearn.model_selection import train_test_split\n",
    "from sklearn.linear_model import LinearRegression"
   ]
  },
  {
   "cell_type": "code",
   "execution_count": 8,
   "metadata": {},
   "outputs": [],
   "source": [
    "quandl.ApiConfig.api_key = '4eUGe2cSLWryQSrHxNme'\n",
    "NASDAQ_DF = quandl.get('NASDAQOMX/XQC')"
   ]
  },
  {
   "cell_type": "code",
   "execution_count": 9,
   "metadata": {},
   "outputs": [
    {
     "data": {
      "text/html": [
       "<div>\n",
       "<style scoped>\n",
       "    .dataframe tbody tr th:only-of-type {\n",
       "        vertical-align: middle;\n",
       "    }\n",
       "\n",
       "    .dataframe tbody tr th {\n",
       "        vertical-align: top;\n",
       "    }\n",
       "\n",
       "    .dataframe thead th {\n",
       "        text-align: right;\n",
       "    }\n",
       "</style>\n",
       "<table border=\"1\" class=\"dataframe\">\n",
       "  <thead>\n",
       "    <tr style=\"text-align: right;\">\n",
       "      <th></th>\n",
       "      <th>Index Value</th>\n",
       "      <th>High</th>\n",
       "      <th>Low</th>\n",
       "      <th>Total Market Value</th>\n",
       "      <th>Dividend Market Value</th>\n",
       "    </tr>\n",
       "    <tr>\n",
       "      <th>Trade Date</th>\n",
       "      <th></th>\n",
       "      <th></th>\n",
       "      <th></th>\n",
       "      <th></th>\n",
       "      <th></th>\n",
       "    </tr>\n",
       "  </thead>\n",
       "  <tbody>\n",
       "    <tr>\n",
       "      <th>2016-12-19</th>\n",
       "      <td>4934.85</td>\n",
       "      <td>0.0</td>\n",
       "      <td>0.0</td>\n",
       "      <td>0.0</td>\n",
       "      <td>0.0</td>\n",
       "    </tr>\n",
       "    <tr>\n",
       "      <th>2016-12-20</th>\n",
       "      <td>4953.80</td>\n",
       "      <td>0.0</td>\n",
       "      <td>0.0</td>\n",
       "      <td>0.0</td>\n",
       "      <td>0.0</td>\n",
       "    </tr>\n",
       "    <tr>\n",
       "      <th>2016-12-21</th>\n",
       "      <td>4948.90</td>\n",
       "      <td>0.0</td>\n",
       "      <td>0.0</td>\n",
       "      <td>0.0</td>\n",
       "      <td>0.0</td>\n",
       "    </tr>\n",
       "    <tr>\n",
       "      <th>2016-12-22</th>\n",
       "      <td>4934.39</td>\n",
       "      <td>0.0</td>\n",
       "      <td>0.0</td>\n",
       "      <td>0.0</td>\n",
       "      <td>0.0</td>\n",
       "    </tr>\n",
       "    <tr>\n",
       "      <th>2016-12-23</th>\n",
       "      <td>4940.02</td>\n",
       "      <td>0.0</td>\n",
       "      <td>0.0</td>\n",
       "      <td>0.0</td>\n",
       "      <td>0.0</td>\n",
       "    </tr>\n",
       "  </tbody>\n",
       "</table>\n",
       "</div>"
      ],
      "text/plain": [
       "            Index Value  High  Low  Total Market Value  Dividend Market Value\n",
       "Trade Date                                                                   \n",
       "2016-12-19      4934.85   0.0  0.0                 0.0                    0.0\n",
       "2016-12-20      4953.80   0.0  0.0                 0.0                    0.0\n",
       "2016-12-21      4948.90   0.0  0.0                 0.0                    0.0\n",
       "2016-12-22      4934.39   0.0  0.0                 0.0                    0.0\n",
       "2016-12-23      4940.02   0.0  0.0                 0.0                    0.0"
      ]
     },
     "execution_count": 9,
     "metadata": {},
     "output_type": "execute_result"
    }
   ],
   "source": [
    "NASDAQ_DF.head()"
   ]
  },
  {
   "cell_type": "code",
   "execution_count": 10,
   "metadata": {},
   "outputs": [],
   "source": [
    "quandl.ApiConfig.api_key = '4eUGe2cSLWryQSrHxNme'\n",
    "googl_DF = quandl.get('WIKI/GOOGL')"
   ]
  },
  {
   "cell_type": "code",
   "execution_count": 11,
   "metadata": {},
   "outputs": [
    {
     "data": {
      "text/html": [
       "<div>\n",
       "<style scoped>\n",
       "    .dataframe tbody tr th:only-of-type {\n",
       "        vertical-align: middle;\n",
       "    }\n",
       "\n",
       "    .dataframe tbody tr th {\n",
       "        vertical-align: top;\n",
       "    }\n",
       "\n",
       "    .dataframe thead th {\n",
       "        text-align: right;\n",
       "    }\n",
       "</style>\n",
       "<table border=\"1\" class=\"dataframe\">\n",
       "  <thead>\n",
       "    <tr style=\"text-align: right;\">\n",
       "      <th></th>\n",
       "      <th>Open</th>\n",
       "      <th>High</th>\n",
       "      <th>Low</th>\n",
       "      <th>Close</th>\n",
       "      <th>Volume</th>\n",
       "      <th>Ex-Dividend</th>\n",
       "      <th>Split Ratio</th>\n",
       "      <th>Adj. Open</th>\n",
       "      <th>Adj. High</th>\n",
       "      <th>Adj. Low</th>\n",
       "      <th>Adj. Close</th>\n",
       "      <th>Adj. Volume</th>\n",
       "    </tr>\n",
       "    <tr>\n",
       "      <th>Date</th>\n",
       "      <th></th>\n",
       "      <th></th>\n",
       "      <th></th>\n",
       "      <th></th>\n",
       "      <th></th>\n",
       "      <th></th>\n",
       "      <th></th>\n",
       "      <th></th>\n",
       "      <th></th>\n",
       "      <th></th>\n",
       "      <th></th>\n",
       "      <th></th>\n",
       "    </tr>\n",
       "  </thead>\n",
       "  <tbody>\n",
       "    <tr>\n",
       "      <th>2004-08-19</th>\n",
       "      <td>100.01</td>\n",
       "      <td>104.06</td>\n",
       "      <td>95.96</td>\n",
       "      <td>100.335</td>\n",
       "      <td>44659000.0</td>\n",
       "      <td>0.0</td>\n",
       "      <td>1.0</td>\n",
       "      <td>50.159839</td>\n",
       "      <td>52.191109</td>\n",
       "      <td>48.128568</td>\n",
       "      <td>50.322842</td>\n",
       "      <td>44659000.0</td>\n",
       "    </tr>\n",
       "    <tr>\n",
       "      <th>2004-08-20</th>\n",
       "      <td>101.01</td>\n",
       "      <td>109.08</td>\n",
       "      <td>100.50</td>\n",
       "      <td>108.310</td>\n",
       "      <td>22834300.0</td>\n",
       "      <td>0.0</td>\n",
       "      <td>1.0</td>\n",
       "      <td>50.661387</td>\n",
       "      <td>54.708881</td>\n",
       "      <td>50.405597</td>\n",
       "      <td>54.322689</td>\n",
       "      <td>22834300.0</td>\n",
       "    </tr>\n",
       "    <tr>\n",
       "      <th>2004-08-23</th>\n",
       "      <td>110.76</td>\n",
       "      <td>113.48</td>\n",
       "      <td>109.05</td>\n",
       "      <td>109.400</td>\n",
       "      <td>18256100.0</td>\n",
       "      <td>0.0</td>\n",
       "      <td>1.0</td>\n",
       "      <td>55.551482</td>\n",
       "      <td>56.915693</td>\n",
       "      <td>54.693835</td>\n",
       "      <td>54.869377</td>\n",
       "      <td>18256100.0</td>\n",
       "    </tr>\n",
       "    <tr>\n",
       "      <th>2004-08-24</th>\n",
       "      <td>111.24</td>\n",
       "      <td>111.60</td>\n",
       "      <td>103.57</td>\n",
       "      <td>104.870</td>\n",
       "      <td>15247300.0</td>\n",
       "      <td>0.0</td>\n",
       "      <td>1.0</td>\n",
       "      <td>55.792225</td>\n",
       "      <td>55.972783</td>\n",
       "      <td>51.945350</td>\n",
       "      <td>52.597363</td>\n",
       "      <td>15247300.0</td>\n",
       "    </tr>\n",
       "    <tr>\n",
       "      <th>2004-08-25</th>\n",
       "      <td>104.76</td>\n",
       "      <td>108.00</td>\n",
       "      <td>103.88</td>\n",
       "      <td>106.000</td>\n",
       "      <td>9188600.0</td>\n",
       "      <td>0.0</td>\n",
       "      <td>1.0</td>\n",
       "      <td>52.542193</td>\n",
       "      <td>54.167209</td>\n",
       "      <td>52.100830</td>\n",
       "      <td>53.164113</td>\n",
       "      <td>9188600.0</td>\n",
       "    </tr>\n",
       "  </tbody>\n",
       "</table>\n",
       "</div>"
      ],
      "text/plain": [
       "              Open    High     Low    Close      Volume  Ex-Dividend  \\\n",
       "Date                                                                   \n",
       "2004-08-19  100.01  104.06   95.96  100.335  44659000.0          0.0   \n",
       "2004-08-20  101.01  109.08  100.50  108.310  22834300.0          0.0   \n",
       "2004-08-23  110.76  113.48  109.05  109.400  18256100.0          0.0   \n",
       "2004-08-24  111.24  111.60  103.57  104.870  15247300.0          0.0   \n",
       "2004-08-25  104.76  108.00  103.88  106.000   9188600.0          0.0   \n",
       "\n",
       "            Split Ratio  Adj. Open  Adj. High   Adj. Low  Adj. Close  \\\n",
       "Date                                                                   \n",
       "2004-08-19          1.0  50.159839  52.191109  48.128568   50.322842   \n",
       "2004-08-20          1.0  50.661387  54.708881  50.405597   54.322689   \n",
       "2004-08-23          1.0  55.551482  56.915693  54.693835   54.869377   \n",
       "2004-08-24          1.0  55.792225  55.972783  51.945350   52.597363   \n",
       "2004-08-25          1.0  52.542193  54.167209  52.100830   53.164113   \n",
       "\n",
       "            Adj. Volume  \n",
       "Date                     \n",
       "2004-08-19   44659000.0  \n",
       "2004-08-20   22834300.0  \n",
       "2004-08-23   18256100.0  \n",
       "2004-08-24   15247300.0  \n",
       "2004-08-25    9188600.0  "
      ]
     },
     "execution_count": 11,
     "metadata": {},
     "output_type": "execute_result"
    }
   ],
   "source": [
    "googl_DF.head()  # This gives me google time series data"
   ]
  },
  {
   "cell_type": "code",
   "execution_count": 12,
   "metadata": {},
   "outputs": [
    {
     "name": "stderr",
     "output_type": "stream",
     "text": [
      "c:\\users\\dicei\\appdata\\local\\programs\\python\\python37-32\\lib\\site-packages\\ipykernel_launcher.py:2: SettingWithCopyWarning: \n",
      "A value is trying to be set on a copy of a slice from a DataFrame.\n",
      "Try using .loc[row_indexer,col_indexer] = value instead\n",
      "\n",
      "See the caveats in the documentation: http://pandas.pydata.org/pandas-docs/stable/indexing.html#indexing-view-versus-copy\n",
      "  \n",
      "c:\\users\\dicei\\appdata\\local\\programs\\python\\python37-32\\lib\\site-packages\\ipykernel_launcher.py:3: SettingWithCopyWarning: \n",
      "A value is trying to be set on a copy of a slice from a DataFrame.\n",
      "Try using .loc[row_indexer,col_indexer] = value instead\n",
      "\n",
      "See the caveats in the documentation: http://pandas.pydata.org/pandas-docs/stable/indexing.html#indexing-view-versus-copy\n",
      "  This is separate from the ipykernel package so we can avoid doing imports until\n"
     ]
    },
    {
     "name": "stdout",
     "output_type": "stream",
     "text": [
      "            Adj. Close    HL_PCT  PCT_change  Adj. Volume\n",
      "Date                                                     \n",
      "2004-08-19   50.322842  3.712563    0.324968   44659000.0\n",
      "2004-08-20   54.322689  0.710922    7.227007   22834300.0\n",
      "2004-08-23   54.869377  3.729433   -1.227880   18256100.0\n",
      "2004-08-24   52.597363  6.417469   -5.726357   15247300.0\n",
      "2004-08-25   53.164113  1.886792    1.183658    9188600.0\n"
     ]
    }
   ],
   "source": [
    "goog1_df = googl_DF[['Adj. Open','Adj. High','Adj. Low','Adj. Close','Adj. Volume']]\n",
    "goog1_df['HL_PCT'] = (googl_DF['Adj. High']-googl_DF['Adj. Close'])/googl_DF['Adj. Close']*100.0\n",
    "goog1_df['PCT_change'] = (googl_DF['Adj. Close']-googl_DF['Adj. Open'])/googl_DF['Adj. Open']*100.0\n",
    "goog1_df = goog1_df[['Adj. Close','HL_PCT','PCT_change','Adj. Volume']]\n",
    "print(goog1_df.head())\n"
   ]
  },
  {
   "cell_type": "code",
   "execution_count": 14,
   "metadata": {},
   "outputs": [
    {
     "name": "stdout",
     "output_type": "stream",
     "text": [
      "            Adj. Close    HL_PCT  PCT_change  Adj. Volume      label\n",
      "Date                                                                \n",
      "2004-08-19   50.322842  3.712563    0.324968   44659000.0  69.639972\n",
      "2004-08-20   54.322689  0.710922    7.227007   22834300.0  69.078238\n",
      "2004-08-23   54.869377  3.729433   -1.227880   18256100.0  67.839414\n",
      "2004-08-24   52.597363  6.417469   -5.726357   15247300.0  68.912727\n",
      "2004-08-25   53.164113  1.886792    1.183658    9188600.0  70.668146\n",
      "2004-08-26   54.122070  0.037068    2.820391    7094800.0  71.219849\n",
      "2004-08-27   53.239345  2.326896   -1.803885    6211700.0  72.278116\n",
      "2004-08-30   51.162935  3.411430   -3.106003    5196700.0  74.810934\n",
      "2004-08-31   51.343492  1.308977    0.048866    4917800.0  74.199045\n",
      "2004-09-01   50.280210  2.713217   -2.385589    9138200.0  70.462511\n",
      "            Adj. Close    HL_PCT  PCT_change  Adj. Volume    label\n",
      "Date                                                              \n",
      "2017-12-01     1025.07  1.187236   -0.518240    1850541.0  1176.17\n",
      "2017-12-04     1011.87  1.924160   -1.549912    1896325.0  1171.29\n",
      "2017-12-05     1019.60  1.675167    0.851640    1927802.0  1182.14\n",
      "2017-12-06     1032.72  0.664265    1.593673    1369276.0  1187.56\n",
      "2017-12-07     1044.57  0.416439    0.820408    1437448.0  1186.48\n",
      "2017-12-08     1049.38  0.670872   -0.231030    1479665.0  1177.37\n",
      "2017-12-11     1051.97  0.383091    0.081818    1096997.0  1182.22\n",
      "2017-12-12     1048.77  1.309153   -0.117143    1684977.0  1181.59\n",
      "2017-12-13     1051.39  0.389009   -0.065584    1369580.0  1119.20\n",
      "2017-12-14     1057.47  0.908773    0.187591    1531504.0  1068.76\n"
     ]
    }
   ],
   "source": [
    "# moving forward on the regression problem, the goog1_df is the dataframe to use.\n",
    "# Feature or Label...\n",
    "forecast_col = 'Adj. Close'\n",
    "goog1_df.fillna(-99999, inplace = True)\n",
    "# Typically you use regression to forecast out so\n",
    "forecast_out = int(math.ceil(0.01*len(goog1_df)))   #this project outs the 1 (or 0.1) percent of dataframe....many days \n",
    "goog1_df['label']= goog1_df[forecast_col].shift(-forecast_out)\n",
    "goog1_df.dropna(inplace = True)\n",
    "print(goog1_df.head(10))\n",
    "\n",
    "print(goog1_df.tail(10))\n"
   ]
  },
  {
   "cell_type": "markdown",
   "metadata": {},
   "source": [
    "# Machine Learning Regression Training and Testing - Practical Machine Learning"
   ]
  },
  {
   "cell_type": "markdown",
   "metadata": {},
   "source": [
    "# now we will pick Features and Labels "
   ]
  },
  {
   "cell_type": "code",
   "execution_count": 15,
   "metadata": {},
   "outputs": [],
   "source": [
    "# Features ( -1 to 1) => preprocessing  \n",
    "# Lesson 3 on Machine learning linear regression \n",
    "# Featuere drives the Label (to be predicted)\n"
   ]
  },
  {
   "cell_type": "markdown",
   "metadata": {},
   "source": [
    "# convention: feature = Capital X, Label = lower case y"
   ]
  },
  {
   "cell_type": "code",
   "execution_count": 22,
   "metadata": {},
   "outputs": [
    {
     "name": "stdout",
     "output_type": "stream",
     "text": [
      "3355 3355\n"
     ]
    }
   ],
   "source": [
    "X = np.array(goog1_df.drop(['label'],1))  # Feature\n",
    "y = np.array(goog1_df.label)# Label\n",
    "X = preprocessing.scale(X)\n",
    "#X = X[:-forecast_out+1]\n",
    "#goog1_df.dropna(inplace = True)\n",
    "y = np.array(goog1_df.label)\n",
    "print(len(X), len(y))\n",
    "\n",
    "# Now we are ready to create a training data set"
   ]
  },
  {
   "cell_type": "code",
   "execution_count": 30,
   "metadata": {},
   "outputs": [
    {
     "name": "stdout",
     "output_type": "stream",
     "text": [
      "Now creating training data set\n",
      "0.9781362214881201\n"
     ]
    }
   ],
   "source": [
    "print(\"Now creating training data set\")\n",
    "X_train,X_test, y_train, y_test = train_test_split(X,y,test_size = 0.2)\n",
    "clf = LinearRegression()   # if you want to run this paralelly in a cluster you can put LinearRegression(n_jobs = 10) \n",
    "#if I were to add the n_jobs = 10, it will split the work in 10 servers.  The training set will be much faster for ML\n",
    "clf.fit(X_train, y_train)\n",
    "accuracy = clf.score(X_test,y_test)\n",
    "print(accuracy)"
   ]
  },
  {
   "cell_type": "markdown",
   "metadata": {},
   "source": [
    "# what if we wanted to interchange it with SVM from linear regression?"
   ]
  },
  {
   "cell_type": "code",
   "execution_count": 31,
   "metadata": {},
   "outputs": [
    {
     "name": "stdout",
     "output_type": "stream",
     "text": [
      "0.7998458551521953\n"
     ]
    }
   ],
   "source": [
    "clf1 = svm.SVR()\n",
    "clf1.fit(X_train, y_train)\n",
    "accuracy1 = clf1.score(X_test,y_test)\n",
    "print(accuracy1)"
   ]
  },
  {
   "cell_type": "code",
   "execution_count": null,
   "metadata": {},
   "outputs": [],
   "source": []
  }
 ],
 "metadata": {
  "kernelspec": {
   "display_name": "Python 3",
   "language": "python",
   "name": "python3"
  },
  "language_info": {
   "codemirror_mode": {
    "name": "ipython",
    "version": 3
   },
   "file_extension": ".py",
   "mimetype": "text/x-python",
   "name": "python",
   "nbconvert_exporter": "python",
   "pygments_lexer": "ipython3",
   "version": "3.7.1"
  }
 },
 "nbformat": 4,
 "nbformat_minor": 2
}

{
 "cells": [
  {
   "cell_type": "markdown",
   "metadata": {},
   "source": [
    "# NLTK practice w Tokenize 5_12_2020"
   ]
  },
  {
   "cell_type": "code",
   "execution_count": 1,
   "metadata": {},
   "outputs": [],
   "source": [
    "from nltk.tokenize import sent_tokenize, word_tokenize"
   ]
  },
  {
   "cell_type": "code",
   "execution_count": 2,
   "metadata": {},
   "outputs": [
    {
     "name": "stdout",
     "output_type": "stream",
     "text": [
      "['Hello Mr. Johnson, how are you doing today?', 'I am doing well, thank you.', \"Let's dance with tokenizer!\"]\n"
     ]
    }
   ],
   "source": [
    "example = \"Hello Mr. Johnson, how are you doing today? I am doing well, thank you. Let's dance with tokenizer!\"\n",
    "print(sent_tokenize(example))"
   ]
  },
  {
   "cell_type": "code",
   "execution_count": 3,
   "metadata": {},
   "outputs": [
    {
     "name": "stdout",
     "output_type": "stream",
     "text": [
      "Hello Mr. Johnson, how are you doing today?\n"
     ]
    }
   ],
   "source": [
    "print(sent_tokenize(example)[0])"
   ]
  },
  {
   "cell_type": "code",
   "execution_count": 4,
   "metadata": {},
   "outputs": [
    {
     "name": "stdout",
     "output_type": "stream",
     "text": [
      "Hello Mr. Johnson, how are you doing today?\n",
      "I am doing well, thank you.\n",
      "Let's dance with tokenizer!\n"
     ]
    }
   ],
   "source": [
    "for i in sent_tokenize(example):\n",
    "    print(i)"
   ]
  },
  {
   "cell_type": "code",
   "execution_count": 5,
   "metadata": {},
   "outputs": [
    {
     "name": "stdout",
     "output_type": "stream",
     "text": [
      "['Hello', 'Mr.', 'Johnson', ',', 'how', 'are', 'you', 'doing', 'today', '?', 'I', 'am', 'doing', 'well', ',', 'thank', 'you', '.', 'Let', \"'s\", 'dance', 'with', 'tokenizer', '!']\n"
     ]
    }
   ],
   "source": [
    "print(word_tokenize(example))"
   ]
  },
  {
   "cell_type": "code",
   "execution_count": 6,
   "metadata": {},
   "outputs": [
    {
     "name": "stdout",
     "output_type": "stream",
     "text": [
      "Hello\n",
      "Mr.\n",
      "Johnson\n",
      ",\n",
      "how\n",
      "are\n",
      "you\n",
      "doing\n",
      "today\n",
      "?\n",
      "I\n",
      "am\n",
      "doing\n",
      "well\n",
      ",\n",
      "thank\n",
      "you\n",
      ".\n",
      "Let\n",
      "'s\n",
      "dance\n",
      "with\n",
      "tokenizer\n",
      "!\n"
     ]
    }
   ],
   "source": [
    "for i in word_tokenize(example):\n",
    "    print(i)"
   ]
  },
  {
   "cell_type": "markdown",
   "metadata": {},
   "source": [
    "# Stop words: (in preprocessing)"
   ]
  },
  {
   "cell_type": "code",
   "execution_count": 7,
   "metadata": {},
   "outputs": [],
   "source": [
    "from nltk.corpus import stopwords\n",
    "\n",
    "#example of stopword filteration\n",
    "\n",
    "stop_words = set(stopwords.words(\"english\"))   #this set of stopwords called \"english\" is a list that is \n",
    "#already predefined by nltk. "
   ]
  },
  {
   "cell_type": "code",
   "execution_count": 8,
   "metadata": {},
   "outputs": [
    {
     "name": "stdout",
     "output_type": "stream",
     "text": [
      "{'is', 'again', 're', 'ain', 'will', 'there', 'why', 'you', \"haven't\", \"couldn't\", 'out', 'than', 'aren', 'because', 'under', 'so', 'the', 'been', 'which', 'do', 'where', 'its', 'before', 'here', 'theirs', 'myself', \"aren't\", 'itself', 'did', 'ours', 'of', 'yourselves', 'between', 'has', 'wouldn', 'weren', 'herself', 'from', \"she's\", 'should', 'won', 'that', 'wasn', 'if', 'up', 'it', 'are', 'our', 'each', \"that'll\", \"wasn't\", 'needn', 'hasn', 'at', \"don't\", 'above', 'through', 'with', \"you're\", 'them', \"you'll\", 'he', 'am', 'can', 'themselves', 'now', 'haven', \"mightn't\", 'more', 'mightn', 'by', \"shouldn't\", 'those', 'other', 'when', \"hadn't\", 'during', 'this', 'hadn', 'their', 'your', 'shouldn', 'whom', 'both', \"you'd\", 'as', \"mustn't\", 'then', 'too', 'for', 'shan', 'and', 'a', 'be', 'into', 'an', 'we', 'few', \"should've\", 'had', 'him', 'very', 'o', 'were', 'isn', 'have', 'yourself', 'such', 'i', 'or', 'me', 'who', 'all', 'having', 'doing', 'don', 'once', \"weren't\", 'some', 'she', 'own', 'ma', \"wouldn't\", 'himself', 'how', 'in', \"needn't\", 'to', 'ourselves', 'mustn', 'over', \"hasn't\", 'hers', 'doesn', 'what', 'no', 'these', 'nor', 'was', 'didn', 'm', 'just', 'on', 'not', 'after', 'does', \"you've\", 'd', 'against', 'll', 'about', 'y', 'his', 'below', 'same', 'being', 've', 'they', 'off', \"it's\", \"shan't\", 'my', 'any', \"won't\", 'yours', 'while', 'only', 'down', 's', 't', 'but', \"didn't\", 'her', \"doesn't\", 'couldn', \"isn't\", 'most', 'further', 'until'}\n"
     ]
    }
   ],
   "source": [
    "print(stop_words)"
   ]
  },
  {
   "cell_type": "code",
   "execution_count": 9,
   "metadata": {},
   "outputs": [],
   "source": [
    "words = word_tokenize(example)\n",
    "filtered_sentence = []\n",
    "\n",
    "for w in words: \n",
    "    if w not in stop_words:\n",
    "        filtered_sentence.append(w)\n",
    "        "
   ]
  },
  {
   "cell_type": "code",
   "execution_count": 10,
   "metadata": {},
   "outputs": [
    {
     "name": "stdout",
     "output_type": "stream",
     "text": [
      "['Hello', 'Mr.', 'Johnson', ',', 'today', '?', 'I', 'well', ',', 'thank', '.', 'Let', \"'s\", 'dance', 'tokenizer', '!']\n"
     ]
    }
   ],
   "source": [
    "print(filtered_sentence)"
   ]
  },
  {
   "cell_type": "code",
   "execution_count": 11,
   "metadata": {},
   "outputs": [
    {
     "name": "stdout",
     "output_type": "stream",
     "text": [
      "['Hello', 'Mr.', 'Johnson', ',', 'today', '?', 'I', 'well', ',', 'thank', '.', 'Let', \"'s\", 'dance', 'tokenizer', '!']\n"
     ]
    }
   ],
   "source": [
    "filtered_sentence2 = [w for w in words if not w in stop_words]\n",
    "print(filtered_sentence2)"
   ]
  },
  {
   "cell_type": "markdown",
   "metadata": {},
   "source": [
    "# Stemming:(data preprocessing)  Take root stem of the word"
   ]
  },
  {
   "cell_type": "code",
   "execution_count": 13,
   "metadata": {},
   "outputs": [
    {
     "name": "stdout",
     "output_type": "stream",
     "text": [
      "python\n",
      "python\n",
      "python\n",
      "python\n",
      "pythonli\n"
     ]
    }
   ],
   "source": [
    "# Extract semantics from similar words...\n",
    "from nltk.stem import PorterStemmer\n",
    "from nltk.tokenize import word_tokenize\n",
    "\n",
    "ps = PorterStemmer()\n",
    "\n",
    "example_words = [\"python\",\"pythoner\",\"pythoning\",\"pythoned\",\"pythonly\"]\n",
    "\n",
    "for w in example_words:\n",
    "    print(ps.stem(w))\n"
   ]
  },
  {
   "cell_type": "code",
   "execution_count": 14,
   "metadata": {},
   "outputs": [
    {
     "name": "stdout",
     "output_type": "stream",
     "text": [
      "It\n",
      "is\n",
      "veri\n",
      "import\n",
      "to\n",
      "be\n",
      "pythonli\n",
      "while\n",
      "you\n",
      "are\n",
      "python\n",
      "with\n",
      "python\n",
      ".\n",
      "all\n",
      "python\n",
      "have\n",
      "python\n",
      "poorli\n",
      "at\n",
      "least\n",
      "onc\n",
      ".\n"
     ]
    }
   ],
   "source": [
    "new_text = \"It is very important to be pythonly while you are pythoning with python.  All pythoners have pythoned poorly at least once.\"\n",
    "\n",
    "words = word_tokenize(new_text)\n",
    "\n",
    "for w in words:\n",
    "    print(ps.stem(w))"
   ]
  },
  {
   "cell_type": "code",
   "execution_count": null,
   "metadata": {},
   "outputs": [],
   "source": [
    "# end of video 3....I should watch and do the rest of it. "
   ]
  }
 ],
 "metadata": {
  "kernelspec": {
   "display_name": "Python 3",
   "language": "python",
   "name": "python3"
  },
  "language_info": {
   "codemirror_mode": {
    "name": "ipython",
    "version": 3
   },
   "file_extension": ".py",
   "mimetype": "text/x-python",
   "name": "python",
   "nbconvert_exporter": "python",
   "pygments_lexer": "ipython3",
   "version": "3.7.1"
  }
 },
 "nbformat": 4,
 "nbformat_minor": 2
}

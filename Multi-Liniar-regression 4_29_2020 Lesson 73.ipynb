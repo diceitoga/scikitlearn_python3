{
 "cells": [
  {
   "cell_type": "markdown",
   "metadata": {},
   "source": [
    "# Multi-Liniar-regression: 4_29_2020 Lesson 73 "
   ]
  },
  {
   "cell_type": "code",
   "execution_count": 1,
   "metadata": {},
   "outputs": [],
   "source": [
    "#Now, we'll keep moving along with using scikit learn to do a multi variable regression. \n",
    "#This will be a similar apporach to the above example, \n",
    "#but sci kit learn will be able to take into account more than just a single data variable effecting the target!"
   ]
  },
  {
   "cell_type": "code",
   "execution_count": 2,
   "metadata": {},
   "outputs": [],
   "source": [
    "import numpy as np\n",
    "from numpy import linalg\n",
    "import pandas as pd\n",
    "from pandas import Series, DataFrame\n",
    "import matplotlib.pyplot as plt\n",
    "%matplotlib inline\n",
    "import seaborn as sns\n",
    "sns.set_style('whitegrid')\n",
    "\n",
    "from sklearn.datasets import load_boston\n",
    "\n",
    "\n",
    "import sklearn\n",
    "from sklearn.linear_model import LinearRegression"
   ]
  },
  {
   "cell_type": "code",
   "execution_count": 3,
   "metadata": {},
   "outputs": [
    {
     "data": {
      "text/plain": [
       "'\\nIn statistics, the coefficient of determination, denoted R2 or r2 and pronounced \"R squared\",\\nis the proportion of the variance in the dependent variable that is predictable from the independent variable(s).\\n\\nIt is a statistic used in the context of statistical models whose main purpose\\nis either the prediction of future outcomes or the testing of hypotheses, \\non the basis of other related information. \\nIt provides a measure of how well observed outcomes are replicated by the model, \\nbased on the proportion of total variation of outcomes explained by the model.[\\n\\n\\n'"
      ]
     },
     "execution_count": 3,
     "metadata": {},
     "output_type": "execute_result"
    }
   ],
   "source": [
    "'''\n",
    "In statistics, the coefficient of determination, denoted R2 or r2 and pronounced \"R squared\",\n",
    "is the proportion of the variance in the dependent variable that is predictable from the independent variable(s).\n",
    "\n",
    "It is a statistic used in the context of statistical models whose main purpose\n",
    "is either the prediction of future outcomes or the testing of hypotheses, \n",
    "on the basis of other related information. \n",
    "It provides a measure of how well observed outcomes are replicated by the model, \n",
    "based on the proportion of total variation of outcomes explained by the model.[\n",
    "\n",
    "\n",
    "'''"
   ]
  },
  {
   "cell_type": "code",
   "execution_count": 4,
   "metadata": {},
   "outputs": [
    {
     "name": "stdout",
     "output_type": "stream",
     "text": [
      "      CRIM    ZN  INDUS  CHAS    NOX     RM   AGE     DIS  RAD    TAX  \\\n",
      "0  0.00632  18.0   2.31   0.0  0.538  6.575  65.2  4.0900  1.0  296.0   \n",
      "1  0.02731   0.0   7.07   0.0  0.469  6.421  78.9  4.9671  2.0  242.0   \n",
      "2  0.02729   0.0   7.07   0.0  0.469  7.185  61.1  4.9671  2.0  242.0   \n",
      "3  0.03237   0.0   2.18   0.0  0.458  6.998  45.8  6.0622  3.0  222.0   \n",
      "4  0.06905   0.0   2.18   0.0  0.458  7.147  54.2  6.0622  3.0  222.0   \n",
      "\n",
      "   PTRATIO       B  LSTAT  \n",
      "0     15.3  396.90   4.98  \n",
      "1     17.8  396.90   9.14  \n",
      "2     17.8  392.83   4.03  \n",
      "3     18.7  394.63   2.94  \n",
      "4     18.7  396.90   5.33  \n"
     ]
    },
    {
     "data": {
      "text/plain": [
       "'\\nEstimator by definition implements: \\n1. lreg.fit() which fits a linear model\\n\\n2. lreg.predict() which is used to predict Y using the linear model with estimated coefficients\\n\\n3. lreg.score() which returns the coefficient of determination (R^2).\\n or score is A measure of how well observed outcomes are replicated by the model\\n     - Perfectly liniear fit would give a score of 1\\n     - \\n\\n'"
      ]
     },
     "execution_count": 4,
     "metadata": {},
     "output_type": "execute_result"
    }
   ],
   "source": [
    "boston = load_boston()\n",
    "boston_df = DataFrame(boston.data)\n",
    "boston_df.columns = boston.feature_names\n",
    "boston_df['Price'] = boston.target\n",
    "# print(boston_df.head())\n",
    "\n",
    "\n",
    "\n",
    "\n",
    "# Create a LinearRegression Class object\n",
    "lreg = LinearRegression()  #this comes form sklearn.linear_model module\n",
    "X_multi = boston_df.drop('Price',1)\n",
    "y_target = boston_df.Price\n",
    "print(X_multi.head())\n",
    "\n",
    "'''\n",
    "Estimator by definition implements: \n",
    "1. lreg.fit() which fits a linear model\n",
    "\n",
    "2. lreg.predict() which is used to predict Y using the linear model with estimated coefficients\n",
    "\n",
    "3. lreg.score() which returns the coefficient of determination (R^2).\n",
    " or score is A measure of how well observed outcomes are replicated by the model\n",
    "     - Perfectly liniear fit would give a score of 1\n",
    "     - \n",
    "\n",
    "'''"
   ]
  },
  {
   "cell_type": "code",
   "execution_count": 5,
   "metadata": {},
   "outputs": [
    {
     "name": "stdout",
     "output_type": "stream",
     "text": [
      "The estimate intercept coefficient is this btw is the b of y=mx+b : 36.45948838508982\n",
      "The number of coefficient used was : 13\n"
     ]
    }
   ],
   "source": [
    "lreg.fit(X_multi, y_target)\n",
    "print('The estimate intercept coefficient is this btw is the b of y=mx+b : ' + str(lreg.intercept_))\n",
    "print('The number of coefficient used was : ' + str(len(lreg.coef_)))"
   ]
  },
  {
   "cell_type": "code",
   "execution_count": 6,
   "metadata": {},
   "outputs": [
    {
     "name": "stderr",
     "output_type": "stream",
     "text": [
      "c:\\users\\dicei\\appdata\\local\\programs\\python\\python37-32\\lib\\site-packages\\ipykernel_launcher.py:2: UserWarning: Pandas doesn't allow columns to be created via a new attribute name - see https://pandas.pydata.org/pandas-docs/stable/indexing.html#attribute-access\n",
      "  \n"
     ]
    },
    {
     "data": {
      "text/html": [
       "<div>\n",
       "<style scoped>\n",
       "    .dataframe tbody tr th:only-of-type {\n",
       "        vertical-align: middle;\n",
       "    }\n",
       "\n",
       "    .dataframe tbody tr th {\n",
       "        vertical-align: top;\n",
       "    }\n",
       "\n",
       "    .dataframe thead th {\n",
       "        text-align: right;\n",
       "    }\n",
       "</style>\n",
       "<table border=\"1\" class=\"dataframe\">\n",
       "  <thead>\n",
       "    <tr style=\"text-align: right;\">\n",
       "      <th></th>\n",
       "      <th>0</th>\n",
       "      <th>Coefficient Estimate</th>\n",
       "    </tr>\n",
       "  </thead>\n",
       "  <tbody>\n",
       "    <tr>\n",
       "      <th>0</th>\n",
       "      <td>CRIM</td>\n",
       "      <td>-0.108011</td>\n",
       "    </tr>\n",
       "    <tr>\n",
       "      <th>1</th>\n",
       "      <td>ZN</td>\n",
       "      <td>0.046420</td>\n",
       "    </tr>\n",
       "    <tr>\n",
       "      <th>2</th>\n",
       "      <td>INDUS</td>\n",
       "      <td>0.020559</td>\n",
       "    </tr>\n",
       "    <tr>\n",
       "      <th>3</th>\n",
       "      <td>CHAS</td>\n",
       "      <td>2.686734</td>\n",
       "    </tr>\n",
       "    <tr>\n",
       "      <th>4</th>\n",
       "      <td>NOX</td>\n",
       "      <td>-17.766611</td>\n",
       "    </tr>\n",
       "    <tr>\n",
       "      <th>5</th>\n",
       "      <td>RM</td>\n",
       "      <td>3.809865</td>\n",
       "    </tr>\n",
       "    <tr>\n",
       "      <th>6</th>\n",
       "      <td>AGE</td>\n",
       "      <td>0.000692</td>\n",
       "    </tr>\n",
       "    <tr>\n",
       "      <th>7</th>\n",
       "      <td>DIS</td>\n",
       "      <td>-1.475567</td>\n",
       "    </tr>\n",
       "    <tr>\n",
       "      <th>8</th>\n",
       "      <td>RAD</td>\n",
       "      <td>0.306049</td>\n",
       "    </tr>\n",
       "    <tr>\n",
       "      <th>9</th>\n",
       "      <td>TAX</td>\n",
       "      <td>-0.012335</td>\n",
       "    </tr>\n",
       "    <tr>\n",
       "      <th>10</th>\n",
       "      <td>PTRATIO</td>\n",
       "      <td>-0.952747</td>\n",
       "    </tr>\n",
       "    <tr>\n",
       "      <th>11</th>\n",
       "      <td>B</td>\n",
       "      <td>0.009312</td>\n",
       "    </tr>\n",
       "    <tr>\n",
       "      <th>12</th>\n",
       "      <td>LSTAT</td>\n",
       "      <td>-0.524758</td>\n",
       "    </tr>\n",
       "    <tr>\n",
       "      <th>13</th>\n",
       "      <td>Price</td>\n",
       "      <td>NaN</td>\n",
       "    </tr>\n",
       "  </tbody>\n",
       "</table>\n",
       "</div>"
      ],
      "text/plain": [
       "          0  Coefficient Estimate\n",
       "0      CRIM             -0.108011\n",
       "1        ZN              0.046420\n",
       "2     INDUS              0.020559\n",
       "3      CHAS              2.686734\n",
       "4       NOX            -17.766611\n",
       "5        RM              3.809865\n",
       "6       AGE              0.000692\n",
       "7       DIS             -1.475567\n",
       "8       RAD              0.306049\n",
       "9       TAX             -0.012335\n",
       "10  PTRATIO             -0.952747\n",
       "11        B              0.009312\n",
       "12    LSTAT             -0.524758\n",
       "13    Price                   NaN"
      ]
     },
     "execution_count": 6,
     "metadata": {},
     "output_type": "execute_result"
    }
   ],
   "source": [
    "coeff_df = DataFrame(boston_df.columns)\n",
    "coeff_df.colums = ['Features']\n",
    "coeff_df['Coefficient Estimate'] = Series(lreg.coef_)\n",
    "coeff_df"
   ]
  },
  {
   "cell_type": "code",
   "execution_count": 7,
   "metadata": {},
   "outputs": [],
   "source": [
    "# the highest Coefficient estimate is the RM, with Price, so now you can isolate that to do regression. "
   ]
  },
  {
   "cell_type": "markdown",
   "metadata": {},
   "source": [
    "# Lesson 75 Training and validation (of data) "
   ]
  },
  {
   "cell_type": "code",
   "execution_count": 8,
   "metadata": {},
   "outputs": [],
   "source": [
    "# split the data to mostly training and some testing. using "
   ]
  },
  {
   "cell_type": "code",
   "execution_count": 9,
   "metadata": {},
   "outputs": [
    {
     "name": "stdout",
     "output_type": "stream",
     "text": [
      "(379, 1) (127, 1) (379,) (127,)\n"
     ]
    }
   ],
   "source": [
    "X = np.vstack(boston_df.RM) \n",
    "x_train, x_test, y_train, y_test = sklearn.model_selection.train_test_split(X, boston_df.Price)   #Crossvalidation module is depricated 3:23\n",
    "'''\n",
    "output of train_test_split() => 1. x_training data, 2. y_training data, 3. x_testing data and 4. y_testing data\n",
    "\n",
    "'''\n",
    "#x_train\n",
    "#x_test\n",
    "#y_train\n",
    "#y_test\n",
    "print(x_train.shape, x_test.shape,y_train.shape, y_test.shape)"
   ]
  },
  {
   "cell_type": "code",
   "execution_count": 10,
   "metadata": {},
   "outputs": [],
   "source": [
    "lreg = LinearRegression()"
   ]
  },
  {
   "cell_type": "code",
   "execution_count": 11,
   "metadata": {},
   "outputs": [
    {
     "data": {
      "text/plain": [
       "LinearRegression(copy_X=True, fit_intercept=True, n_jobs=None, normalize=False)"
      ]
     },
     "execution_count": 11,
     "metadata": {},
     "output_type": "execute_result"
    }
   ],
   "source": [
    "lreg.fit(x_train, y_train)"
   ]
  },
  {
   "cell_type": "code",
   "execution_count": 13,
   "metadata": {},
   "outputs": [
    {
     "name": "stdout",
     "output_type": "stream",
     "text": [
      "MSE:42.589\n",
      "MSE_test: 46.785\n"
     ]
    }
   ],
   "source": [
    "\n",
    "\n",
    "pred_train = lreg.predict(x_train)\n",
    "pred_test = lreg.predict(x_test)\n",
    "\n",
    "# Now we will fit the x_train and calcuate the MSE using y_train\n",
    "\n",
    "MSE = np.mean((y_train - pred_train)**2)\n",
    "MSE = round(MSE,3)\n",
    "MSE_test = np.mean((y_test - pred_test)**2)\n",
    "MSE_test = round(MSE_test,3)\n",
    "print('MSE:' + str(MSE))\n",
    "\n",
    "# Fit a model with x_train and calculate MSE with x_test and y_test \n",
    "print('MSE_test: ' + str(MSE_test))"
   ]
  },
  {
   "cell_type": "markdown",
   "metadata": {},
   "source": [
    "# Residual = Observed Value - Predicted value"
   ]
  },
  {
   "cell_type": "code",
   "execution_count": null,
   "metadata": {},
   "outputs": [],
   "source": [
    "'''\n",
    "Minimize: \n",
    "LinearRegression fits a linear model with coefficients\n",
    "to minimize the residual sum of squares between the observed targets in the dataset, \n",
    "and the targets(predicted value) predicted by the linear approximation. Mathematically it solves a problem of the form:\n",
    "https://blog.minitab.com/blog/adventures-in-statistics-2/why-you-need-to-check-your-residual-plots-for-regression-analysis \n",
    "'''"
   ]
  },
  {
   "cell_type": "code",
   "execution_count": 17,
   "metadata": {},
   "outputs": [
    {
     "data": {
      "text/plain": [
       "Text(0.5, 1.0, 'Residual Plot')"
      ]
     },
     "execution_count": 17,
     "metadata": {},
     "output_type": "execute_result"
    },
    {
     "data": {
      "image/png": "[encoded data removed]",
      "text/plain": [
       "<Figure size 432x288 with 1 Axes>"
      ]
     },
     "metadata": {
      "needs_background": "light"
     },
     "output_type": "display_data"
    }
   ],
   "source": [
    "residual_v1 = (pred_train - y_train)\n",
    "residual_v2 = (pred_test - y_test)\n",
    "\n",
    "train = plt.scatter(pred_train,residual_v1,c='b',alpha = 0.5)\n",
    "test = plt.scatter(pred_test,residual_v2, c='r', alpha = 0.5)\n",
    "plt.hlines(y = 0, xmin = -10, xmax = 45)\n",
    "plt.legend((train,test),('Training', 'test'),loc = 'lower left')\n",
    "plt.title('Residual Plot')"
   ]
  },
  {
   "cell_type": "code",
   "execution_count": null,
   "metadata": {},
   "outputs": [],
   "source": []
  }
 ],
 "metadata": {
  "kernelspec": {
   "display_name": "Python 3",
   "language": "python",
   "name": "python3"
  },
  "language_info": {
   "codemirror_mode": {
    "name": "ipython",
    "version": 3
   },
   "file_extension": ".py",
   "mimetype": "text/x-python",
   "name": "python",
   "nbconvert_exporter": "python",
   "pygments_lexer": "ipython3",
   "version": "3.7.1"
  }
 },
 "nbformat": 4,
 "nbformat_minor": 2
}
